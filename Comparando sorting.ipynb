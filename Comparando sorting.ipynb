{
 "cells": [
  {
   "cell_type": "code",
   "execution_count": 1,
   "metadata": {},
   "outputs": [],
   "source": [
    "import numpy as np\n",
    "import time\n",
    "import sys\n",
    "\n",
    "sys.setrecursionlimit(1000500)"
   ]
  },
  {
   "cell_type": "code",
   "execution_count": 2,
   "metadata": {},
   "outputs": [],
   "source": [
    "# Python program for implementation of heap Sort \n",
    "  \n",
    "# To heapify subtree rooted at index i. \n",
    "# n is size of heap \n",
    "def heapify(arr, n, i): \n",
    "    largest = i # Initialize largest as root \n",
    "    l = 2 * i + 1     # left = 2*i + 1 \n",
    "    r = 2 * i + 2     # right = 2*i + 2 \n",
    "  \n",
    "    # See if left child of root exists and is \n",
    "    # greater than root \n",
    "    if l < n and arr[i] < arr[l]: \n",
    "        largest = l \n",
    "  \n",
    "    # See if right child of root exists and is \n",
    "    # greater than root \n",
    "    if r < n and arr[largest] < arr[r]: \n",
    "        largest = r \n",
    "  \n",
    "    # Change root, if needed \n",
    "    if largest != i: \n",
    "        arr[i],arr[largest] = arr[largest],arr[i] # swap \n",
    "  \n",
    "        # Heapify the root. \n",
    "        heapify(arr, n, largest) \n",
    "  \n",
    "# The main function to sort an array of given size \n",
    "def heapSort(arr): \n",
    "    n = len(arr) \n",
    "  \n",
    "    # Build a maxheap. \n",
    "    for i in range(n, -1, -1): \n",
    "        heapify(arr, n, i) \n",
    "  \n",
    "    # One by one extract elements \n",
    "    for i in range(n-1, 0, -1): \n",
    "        arr[i], arr[0] = arr[0], arr[i] # swap \n",
    "        heapify(arr, i, 0) "
   ]
  },
  {
   "cell_type": "code",
   "execution_count": 3,
   "metadata": {},
   "outputs": [],
   "source": [
    "def partition(xs, start, end):\n",
    "    follower = leader = start\n",
    "    while leader < end:\n",
    "        if xs[leader] <= xs[end]:\n",
    "            xs[follower], xs[leader] = xs[leader], xs[follower]\n",
    "            follower += 1\n",
    "        leader += 1\n",
    "    xs[follower], xs[end] = xs[end], xs[follower]\n",
    "    return follower\n",
    "\n",
    "def _quicksort(xs, start, end):\n",
    "    if start >= end:\n",
    "        return\n",
    "    p = partition(xs, start, end)\n",
    "    _quicksort(xs, start, p-1)\n",
    "    _quicksort(xs, p+1, end)\n",
    "    \n",
    "def quicksort(xs):\n",
    "    _quicksort(xs, 0, len(xs)-1)"
   ]
  },
  {
   "cell_type": "code",
   "execution_count": 4,
   "metadata": {},
   "outputs": [],
   "source": [
    "# Python program for implementation of Radix Sort \n",
    "  \n",
    "# A function to do counting sort of arr[] according to \n",
    "# the digit represented by exp. \n",
    "def countingSort(arr, exp1): \n",
    "  \n",
    "    n = len(arr) \n",
    "  \n",
    "    # The output array elements that will have sorted arr \n",
    "    output = [0] * (n) \n",
    "  \n",
    "    # initialize count array as 0 \n",
    "    count = [0] * (10) \n",
    "  \n",
    "    # Store count of occurrences in count[] \n",
    "    for i in range(0, n): \n",
    "        index = (arr[i]/exp1) \n",
    "        count[ (index)%10 ] += 1\n",
    "  \n",
    "    # Change count[i] so that count[i] now contains actual \n",
    "    #  position of this digit in output array \n",
    "    for i in range(1,10): \n",
    "        count[i] += count[i-1] \n",
    "  \n",
    "    # Build the output array \n",
    "    i = n-1\n",
    "    while i>=0: \n",
    "        index = (arr[i]/exp1) \n",
    "        output[ count[ (index)%10 ] - 1] = arr[i] \n",
    "        count[ (index)%10 ] -= 1\n",
    "        i -= 1\n",
    "  \n",
    "    # Copying the output array to arr[], \n",
    "    # so that arr now contains sorted numbers \n",
    "    i = 0\n",
    "    for i in range(0,len(arr)): \n",
    "        arr[i] = output[i] \n",
    "  \n",
    "# Method to do Radix Sort \n",
    "def radixSort(arr): \n",
    "  \n",
    "    # Find the maximum number to know number of digits \n",
    "    max1 = max(arr) \n",
    "  \n",
    "    # Do counting sort for every digit. Note that instead \n",
    "    # of passing digit number, exp is passed. exp is 10^i \n",
    "    # where i is current digit number \n",
    "    exp = 1\n",
    "    while max1/exp > 0: \n",
    "        countingSort(arr,exp) \n",
    "        exp *= 10"
   ]
  },
  {
   "cell_type": "code",
   "execution_count": 5,
   "metadata": {},
   "outputs": [],
   "source": [
    "NOVENTA = 90000\n",
    "DEZ = 10000"
   ]
  },
  {
   "cell_type": "code",
   "execution_count": 6,
   "metadata": {},
   "outputs": [],
   "source": [
    "same_numbers = np.empty(NOVENTA)\n",
    "same_numbers.fill(7)"
   ]
  },
  {
   "cell_type": "code",
   "execution_count": 7,
   "metadata": {},
   "outputs": [],
   "source": [
    "other_numbers = np.random.randint(1,101,DEZ)"
   ]
  },
  {
   "cell_type": "code",
   "execution_count": 8,
   "metadata": {},
   "outputs": [],
   "source": [
    "test_array = np.concatenate((same_numbers, other_numbers), axis=None)"
   ]
  },
  {
   "cell_type": "code",
   "execution_count": 9,
   "metadata": {},
   "outputs": [],
   "source": [
    "#Comecando aqui os testes\n",
    "start1 = time.time()\n",
    "heapSort(test_array)\n",
    "stop1 = time.time()"
   ]
  },
  {
   "cell_type": "code",
   "execution_count": null,
   "metadata": {},
   "outputs": [],
   "source": [
    "start2 = time.time()\n",
    "quicksort(test_array)\n",
    "stop2 = time.time()"
   ]
  },
  {
   "cell_type": "markdown",
   "metadata": {},
   "source": [
    "start3 = time.time()\n",
    "radixSort(test_array)\n",
    "stop3 = time.time"
   ]
  },
  {
   "cell_type": "code",
   "execution_count": null,
   "metadata": {},
   "outputs": [],
   "source": [
    "heapTime = stop1 - start1\n",
    "quickTime = stop2 - start2\n",
    "#radixTime = stop3 - start3"
   ]
  },
  {
   "cell_type": "code",
   "execution_count": null,
   "metadata": {},
   "outputs": [],
   "source": [
    "print(heapTime)\n",
    "print(quickTime)"
   ]
  },
  {
   "cell_type": "code",
   "execution_count": null,
   "metadata": {},
   "outputs": [],
   "source": []
  }
 ],
 "metadata": {
  "kernelspec": {
   "display_name": "Python 3",
   "language": "python",
   "name": "python3"
  },
  "language_info": {
   "codemirror_mode": {
    "name": "ipython",
    "version": 3
   },
   "file_extension": ".py",
   "mimetype": "text/x-python",
   "name": "python",
   "nbconvert_exporter": "python",
   "pygments_lexer": "ipython3",
   "version": "3.5.2"
  }
 },
 "nbformat": 4,
 "nbformat_minor": 2
}
